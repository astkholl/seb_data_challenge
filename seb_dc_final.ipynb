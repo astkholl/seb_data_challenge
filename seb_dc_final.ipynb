{
 "cells": [
  {
   "cell_type": "markdown",
   "metadata": {},
   "source": [
    "# Using mostly pandas to explore the data\n",
    "\n",
    "- Explore additional customer parameters that can be extracted from the transactions\n",
    "    - Average monthly withdrawal\n",
    "    - Average monthly credit\n",
    "    - Average monthly balance\n",
    "    - Average monthly number of transactions\n",
    "    - Time active with the bank\n",
    "    - Average end of month balance\n",
    "    - Yearly income (credit)\n",
    "    - Monthly income excess (credit - withdrawal)\n",
    "    \n",
    "- Explore how customer spending changes with factors such as age, gender or location\n",
    "- Find which data is important for building a good model to select who gets a loan\n",
    "- Find the best classifier for the model and train/test it\n",
    "\n",
    "## Packages"
   ]
  },
  {
   "cell_type": "code",
   "execution_count": 1,
   "metadata": {
    "collapsed": false
   },
   "outputs": [],
   "source": [
    "import numpy as np\n",
    "import pandas as pd\n",
    "import matplotlib.pyplot as plt\n",
    "from datetime import datetime\n",
    "from matplotlib.dates import DateFormatter\n",
    "import matplotlib.dates as mdates\n",
    "from sklearn.neural_network import MLPClassifier\n",
    "from sklearn.linear_model import LogisticRegression\n",
    "import scipy.stats as sps\n",
    "%matplotlib notebook\n",
    "\n",
    "\n",
    "from get_customer_info import get_customer_info"
   ]
  },
  {
   "cell_type": "markdown",
   "metadata": {},
   "source": [
    "## Read in files and check for missing values"
   ]
  },
  {
   "cell_type": "code",
   "execution_count": 2,
   "metadata": {
    "collapsed": false
   },
   "outputs": [
    {
     "name": "stdout",
     "output_type": "stream",
     "text": [
      "Missing data from customers:  Series([], dtype: int64)\n",
      "Missing data from transactions:  OPERATION    183114\n",
      "dtype: int64\n",
      "Missing data from districts:  Series([], dtype: int64)\n"
     ]
    }
   ],
   "source": [
    "customers = pd.read_csv('seb_dc_dataset/Customer.csv')\n",
    "transactions = pd.read_csv('seb_dc_dataset/Transaction.csv')\n",
    "districts = pd.read_csv('seb_dc_dataset/District.csv')\n",
    "\n",
    "#check for missing values and print column heads for reference\n",
    "\n",
    "missing_val_count_by_column = (customers.isnull().sum())\n",
    "print(\"Missing data from customers: \",missing_val_count_by_column[missing_val_count_by_column > 0])\n",
    "\n",
    "missing_val_count_by_column = (transactions.isnull().sum())\n",
    "print(\"Missing data from transactions: \",missing_val_count_by_column[missing_val_count_by_column > 0])\n",
    "\n",
    "missing_val_count_by_column = (districts.isnull().sum())\n",
    "print(\"Missing data from districts: \",missing_val_count_by_column[missing_val_count_by_column > 0])"
   ]
  },
  {
   "cell_type": "markdown",
   "metadata": {},
   "source": [
    "## Get average customer information from transactions and add it to the dataframe"
   ]
  },
  {
   "cell_type": "code",
   "execution_count": 3,
   "metadata": {
    "collapsed": false
   },
   "outputs": [
    {
     "name": "stdout",
     "output_type": "stream",
     "text": [
      "Average number of transactions per customer =  234.737777778\n"
     ]
    }
   ],
   "source": [
    "customers,transactions,districts = get_customer_info(customers,transactions,districts)"
   ]
  },
  {
   "cell_type": "markdown",
   "metadata": {},
   "source": [
    "## Look for behaviours in spending and how this correlates with customer profiles/geography"
   ]
  },
  {
   "cell_type": "code",
   "execution_count": null,
   "metadata": {
    "collapsed": true
   },
   "outputs": [],
   "source": [
    "#calculate the average monthly spend (withdrawal) over all customers\n",
    "\n",
    "total_trans = transactions.groupby(['YEARMONTH','ACCOUNT_ID','TYPE'], as_index=False)['AMOUNT'].sum()\n",
    "total_spending = total_trans[total_trans['TYPE'] == 'WITHDRAWAL']\n",
    "\n",
    "index = pd.DatetimeIndex(withdrawals['YEARMONTH'])\n",
    "\n",
    "withdrawals_monthly = pd.Series(withdrawals['AMOUNT'].values, index=index)\n",
    "num_count = withdrawals['YEARMONTH'].value_counts()\n",
    "\n",
    "withdrawals_monthly = withdrawals_monthly.resample(\"M\").mean()\n",
    "\n",
    "#set matplotlib formatting for dates\n",
    "\n",
    "myFmt = DateFormatter(\"%y/%m\") \n",
    "\n",
    "fig = plt.figure(figsize = (15,10))\n",
    "ax1 = fig.add_subplot(111)\n",
    "line = ax1.plot(withdrawals_monthly,linewidth=2,label='Withdrawals')\n",
    "ax1.set_ylabel('Average withdrawal',fontsize=16)\n",
    "\n",
    "ax2 = ax1.twinx()\n",
    "scatter = ax2.scatter(num_count.index,num_count.values, color='orangered',label='Number of withdrawals')\n",
    "ax2.set_ylabel('Number of withdrawals',fontsize=16)\n",
    "\n",
    "h1, l1 = ax1.get_legend_handles_labels()\n",
    "h2, l2 = ax2.get_legend_handles_labels()\n",
    "ax1.legend(h1+h2, l1+l2, loc=2)\n",
    "\n",
    "ax1.xaxis.set_major_formatter(myFmt)\n"
   ]
  },
  {
   "cell_type": "markdown",
   "metadata": {},
   "source": [
    "## Look at the possible factors for loan classification modelling"
   ]
  },
  {
   "cell_type": "code",
   "execution_count": null,
   "metadata": {
    "collapsed": true
   },
   "outputs": [],
   "source": []
  }
 ],
 "metadata": {
  "kernelspec": {
   "display_name": "Python [conda env:newpy]",
   "language": "python",
   "name": "conda-env-newpy-py"
  },
  "language_info": {
   "codemirror_mode": {
    "name": "ipython",
    "version": 3
   },
   "file_extension": ".py",
   "mimetype": "text/x-python",
   "name": "python",
   "nbconvert_exporter": "python",
   "pygments_lexer": "ipython3",
   "version": "3.6.2"
  }
 },
 "nbformat": 4,
 "nbformat_minor": 2
}
